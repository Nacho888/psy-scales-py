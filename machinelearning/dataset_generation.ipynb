{
 "cells": [
  {
   "cell_type": "code",
   "execution_count": 26,
   "metadata": {},
   "outputs": [
    {
     "name": "stdout",
     "output_type": "stream",
     "text": [
      "Loading raw datasets...\n",
      "Raw datasets succesfully loaded\n"
     ]
    }
   ],
   "source": [
    "import pandas as pd\n",
    "\n",
    "# Load dataset files\n",
    "print(\"Loading raw datasets...\")\n",
    "\n",
    "# Introduce the *paths* of the raw datasets\n",
    "\n",
    "# Depression\n",
    "data_depression = pd.DataFrame(pd.read_json(\"../backups/subr_author_posts.jsonl\", lines=True))\n",
    "data_depression[\"depression_related\"] = [1] * len(data_depression.index)  # Dep. identifier: true\n",
    "dep_size = len(data_depression.index)\n",
    "\n",
    "# Non-depression\n",
    "data_control = pd.DataFrame(pd.read_json(\"../backups/ref_author_posts.jsonl\", lines=True))\n",
    "data_control[\"depression_related\"] = [0] * len(data_control.index)  # Dep. identifier: false\n",
    "non_dep_size = len(data_control.index)\n",
    "\n",
    "print(\"Raw datasets succesfully loaded\")"
   ]
  },
  {
   "cell_type": "code",
   "execution_count": 27,
   "outputs": [
    {
     "name": "stdout",
     "output_type": "stream",
     "text": [
      "Cut off date: 2019-04-06 14:05:31\n",
      "Cut off ID for control: ba4fyl\n",
      "Cut off ID for depression: ba4maj\n"
     ]
    }
   ],
   "source": [
    "# Percentage of posts that we want to be in the test set\n",
    "# Datasets should be ordered in descending order of date (created_utc)\n",
    "percentage = 20\n",
    "cut_off_row = data_depression.head(int(len(data_control) * (percentage / 100))).tail(1)\n",
    "cut_off_date, cut_off_id = cut_off_row[\"created_utc\"].iloc[0], cut_off_row[\"id\"].iloc[0]\n",
    "control_mask, depression_mask = data_control[\"created_utc\"] <= cut_off_date, \\\n",
    "                                data_depression[\"created_utc\"] <= cut_off_date\n",
    "\n",
    "print(\"Cut off date: {}\".format(pd.to_datetime(cut_off_date, unit=\"s\")))\n",
    "print(\"Cut off ID for control: {}\".format(data_control[control_mask].head(1)[\"id\"].iloc[0]))\n",
    "print(\"Cut off ID for depression: {}\".format(cut_off_id))"
   ],
   "metadata": {
    "collapsed": false,
    "pycharm": {
     "name": "#%%\n"
    }
   }
  },
  {
   "cell_type": "code",
   "execution_count": 28,
   "outputs": [
    {
     "name": "stdout",
     "output_type": "stream",
     "text": [
      "Raw training/testing datasets generated\n"
     ]
    }
   ],
   "source": [
    "# Introduce the *paths* to save the cut datasets\n",
    "\n",
    "# Save the datasets with all the features (all columns)\n",
    "data_depression[depression_mask].to_json(orient=\"records\", lines=True, force_ascii=True,\n",
    "                                         path_or_buf=\"../datasets/training/raw_dep_authors_training.jsonl\")\n",
    "data_depression[~depression_mask].to_json(orient=\"records\", lines=True, force_ascii=True,\n",
    "                                          path_or_buf=\"../datasets/testing/raw_dep_authors_testing.jsonl\")\n",
    "\n",
    "data_control[control_mask].to_json(orient=\"records\", lines=True, force_ascii=True,\n",
    "                                   path_or_buf=\"../datasets/training/raw_ctrl_authors_training.jsonl\")\n",
    "data_control[~control_mask].to_json(orient=\"records\", lines=True, force_ascii=True,\n",
    "                                    path_or_buf=\"../datasets/testing/raw_ctrl_authors_testing.jsonl\")\n",
    "\n",
    "print(\"Raw training/testing datasets generated\")"
   ],
   "metadata": {
    "collapsed": false,
    "pycharm": {
     "name": "#%%\n"
    }
   }
  },
  {
   "cell_type": "code",
   "execution_count": 29,
   "outputs": [
    {
     "name": "stdout",
     "output_type": "stream",
     "text": [
      "Processed training/testing datasets generated\n"
     ]
    }
   ],
   "source": [
    "# Introduce the *paths* to save the cut datasets\n",
    "\n",
    "# Save the datasets with only the data required for our task of text classification\n",
    "data_depression[[\"title\", \"selftext\", \"depression_related\"]][depression_mask].to_json(orient=\"records\", lines=True,\n",
    "                                                                                      force_ascii=True,\n",
    "                                                                                      path_or_buf=\"../datasets/training/raw_dep_authors_training_cut.jsonl\")\n",
    "data_depression[[\"title\", \"selftext\", \"depression_related\"]][~depression_mask].to_json(orient=\"records\", lines=True,\n",
    "                                                                                       force_ascii=True,\n",
    "                                                                                       path_or_buf=\"../datasets/testing/raw_dep_authors_testing_cut.jsonl\")\n",
    "\n",
    "data_control[[\"title\", \"selftext\", \"depression_related\"]][control_mask].to_json(orient=\"records\", lines=True,\n",
    "                                                                                force_ascii=True,\n",
    "                                                                                path_or_buf=\"../datasets/training/raw_ctrl_authors_training_cut.jsonl\")\n",
    "data_control[[\"title\", \"selftext\", \"depression_related\"]][~control_mask].to_json(orient=\"records\", lines=True,\n",
    "                                                                                 force_ascii=True,\n",
    "                                                                                 path_or_buf=\"../datasets/testing/raw_ctrl_authors_testing_cut.jsonl\")\n",
    "\n",
    "print(\"Processed training/testing datasets generated\")\n"
   ],
   "metadata": {
    "collapsed": false,
    "pycharm": {
     "name": "#%%\n"
    }
   }
  }
 ],
 "metadata": {
  "kernelspec": {
   "display_name": "Python 3.8.1 64-bit",
   "language": "python",
   "name": "python38164bit0e230da09833446789e7a9e442994782"
  },
  "language_info": {
   "codemirror_mode": {
    "name": "ipython",
    "version": 3
   },
   "file_extension": ".py",
   "mimetype": "text/x-python",
   "name": "python",
   "nbconvert_exporter": "python",
   "pygments_lexer": "ipython3",
   "version": "3.8.1"
  }
 },
 "nbformat": 4,
 "nbformat_minor": 1
}
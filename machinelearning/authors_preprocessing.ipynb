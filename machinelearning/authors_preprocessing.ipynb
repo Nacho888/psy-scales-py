{
 "cells": [
  {
   "cell_type": "code",
   "execution_count": 1,
   "outputs": [
    {
     "name": "stdout",
     "output_type": "stream",
     "text": [
      "Loading raw datasets...\n",
      "Raw datasets successfully loaded\n"
     ]
    }
   ],
   "source": [
    "import pandas as pd\n",
    "\n",
    "# Load dataset files\n",
    "print(\"Loading raw datasets...\")\n",
    "\n",
    "# Introduce the *paths* of the raw datasets\n",
    "\n",
    "# Depression\n",
    "data_depression = pd.DataFrame(pd.read_json(\"../backups/subr_author_posts.jsonl\", lines=True))\n",
    "data_depression[\"depression_related\"] = [1] * len(data_depression.index)  # Dep. identifier: true\n",
    "dep_size = len(data_depression.index)\n",
    "\n",
    "# Non-depression\n",
    "data_control = pd.DataFrame(pd.read_json(\"../backups/ref_author_posts.jsonl\", lines=True))\n",
    "data_control[\"depression_related\"] = [0] * len(data_control.index)  # Dep. identifier: false\n",
    "non_dep_size = len(data_control.index)\n",
    "\n",
    "print(\"Raw datasets successfully loaded\")"
   ],
   "metadata": {
    "collapsed": false,
    "pycharm": {
     "name": "#%%\n"
    }
   }
  },
  {
   "cell_type": "code",
   "execution_count": 2,
   "outputs": [],
   "source": [
    "# In case you want to analyze the author posts\n",
    "authors_depression = pd.read_excel(\"../data/subr_authors_selected.xlsx\")\n",
    "authors_reference = pd.read_excel(\"../data/ref_authors_selected.xlsx\")\n",
    "\n",
    "authors_depression = authors_depression.loc[:, authors_depression.columns != \"Unnamed: 0\"]\n",
    "authors_reference = authors_reference.loc[:, authors_reference.columns != \"Unnamed: 0\"]\n",
    "\n",
    "dep_authors = data_depression[\"author\"].value_counts(sort=True)\n",
    "# Complete authors' data with their posts' count\n",
    "authors_depression[\"posts_count\"] = authors_depression[\"username\"].apply(\n",
    "    lambda usr: int(dep_authors[usr]) if usr in dep_authors else 0)\n",
    "\n",
    "ctrl_authors = data_control[\"author\"].value_counts(sort=True)\n",
    "# Complete authors' data with their posts' count\n",
    "authors_reference[\"posts_count\"] = authors_reference[\"username\"].apply(\n",
    "    lambda usr: int(ctrl_authors[usr]) if usr in ctrl_authors else 0)"
   ],
   "metadata": {
    "collapsed": false,
    "pycharm": {
     "name": "#%%\n"
    }
   }
  },
  {
   "cell_type": "code",
   "execution_count": 5,
   "outputs": [],
   "source": [
    "import date_utils as d\n",
    "\n",
    "paired_authors = pd.DataFrame(columns=[\"acc_id\", \"username\", \"created\", \"updated\", \"comment_karma\", \"link_karma\", \"posts_count\"])\n",
    "days_diffs = [30, 60, 90, 120, 150, 180]\n",
    "similarity = 0.10\n",
    "\n",
    "for days_diff in days_diffs:\n",
    "    for index, author in authors_depression.iterrows():\n",
    "        acc_id, created, comment, link, posts = author[\"acc_id\"], author[\"created\"], author[\"comment_karma\"], \\\n",
    "                                                author[\"link_karma\"], author[\"posts_count\"]\n",
    "        # Create the ranges\n",
    "        ranges = [[d.substract_days_from_epoch(created, days_diff), d.add_days_to_epoch(created, days_diff)],\n",
    "                  [comment - comment * similarity, comment + comment * similarity],\n",
    "                  [link - link * similarity, link + link * similarity],\n",
    "                  [posts - posts * similarity, posts + posts * similarity]]\n",
    "        # Query\n",
    "        result = authors_reference[(ranges[0][0] <= authors_reference[\"created\"]) &\n",
    "                                   (authors_reference[\"created\"] <= ranges[0][1]) &\n",
    "                                   (ranges[1][0] <= authors_reference[\"comment_karma\"]) &\n",
    "                                   (authors_reference[\"comment_karma\"] <= ranges[1][1]) &\n",
    "                                   (ranges[2][0] <= authors_reference[\"link_karma\"]) &\n",
    "                                   (authors_reference[\"link_karma\"] <= ranges[2][1]) &\n",
    "                                   (ranges[3][0] <= authors_reference[\"posts_count\"]) &\n",
    "                                   (authors_reference[\"posts_count\"] <= ranges[3][1])]\n",
    "        if not result.empty:\n",
    "            for i, found in result.iterrows():\n",
    "                if acc_id not in paired_authors[\"acc_id\"].tolist() and found[\"acc_id\"] not in paired_authors[\"acc_id\"].tolist():\n",
    "                    paired_authors = paired_authors.append(author, ignore_index=True)\n",
    "                    paired_authors = paired_authors.append(found, ignore_index=True)\n",
    "\n",
    "    if not paired_authors.empty:\n",
    "        paired_authors.to_excel(\"../data/cleaned_authors_{}.xlsx\".format(days_diff))"
   ],
   "metadata": {
    "collapsed": false,
    "pycharm": {
     "name": "#%%\n"
    }
   }
  }
 ],
 "metadata": {
  "kernelspec": {
   "display_name": "Python 3",
   "language": "python",
   "name": "python3"
  },
  "language_info": {
   "codemirror_mode": {
    "name": "ipython",
    "version": 2
   },
   "file_extension": ".py",
   "mimetype": "text/x-python",
   "name": "python",
   "nbconvert_exporter": "python",
   "pygments_lexer": "ipython2",
   "version": "2.7.6"
  }
 },
 "nbformat": 4,
 "nbformat_minor": 0
}
{
 "cells": [
  {
   "cell_type": "markdown",
   "metadata": {
    "pycharm": {
     "name": "#%% md\n"
    }
   },
   "source": [
    "The first thing to be done is to gather the data from out datasets. We will also annotate them with an extra field\n",
    "\"depression_related\" in order to know if a certain post is depression prone according to its subreddit."
   ]
  },
  {
   "cell_type": "code",
   "execution_count": 1,
   "metadata": {},
   "outputs": [
    {
     "name": "stdout",
     "output_type": "stream",
     "text": [
      "Loading training datasets...\n",
      "Datasets succesfully loaded and merged\n"
     ]
    }
   ],
   "source": [
    "import pandas as pd\n",
    "\n",
    "# Load dataset files\n",
    "print(\"Loading training datasets...\")\n",
    "\n",
    "# Depression (train)\n",
    "data_depression = pd.DataFrame(pd.read_json(\"../backups/r_depression_base.jsonl\", lines=True))\n",
    "data_depression[\"depression_related\"] = [1] * len(data_depression.index)  # Dep. identifier: true\n",
    "dep_size = len(data_depression.index)\n",
    "\n",
    "# Non-depression (train)\n",
    "data_control = pd.DataFrame(pd.read_json(\"../backups/reference_collection.jsonl\", lines=True))\n",
    "data_control[\"depression_related\"] = [0] * len(data_control.index)  # Dep. identifier: false\n",
    "non_dep_size = len(data_control.index)\n",
    "\n",
    "# Join both data-frames\n",
    "data = data_depression.append(data_control, ignore_index=True)\n",
    "print(\"Datasets succesfully loaded and merged\")"
   ]
  },
  {
   "cell_type": "code",
   "execution_count": 9,
   "outputs": [
    {
     "data": {
      "text/plain": "<AxesSubplot:>"
     },
     "execution_count": 9,
     "metadata": {},
     "output_type": "execute_result"
    },
    {
     "data": {
      "text/plain": "<Figure size 432x288 with 1 Axes>",
      "image/png": "[encoded data removed]"
     },
     "metadata": {
      "needs_background": "light"
     },
     "output_type": "display_data"
    }
   ],
   "source": [
    "pd.value_counts(data[\"created_utc\"].astype(\"datetime64[s]\").dt.year).plot(kind=\"bar\", color=\"c\")"
   ],
   "metadata": {
    "collapsed": false,
    "pycharm": {
     "name": "#%%\n"
    }
   }
  },
  {
   "cell_type": "markdown",
   "metadata": {
    "pycharm": {
     "name": "#%% md\n"
    }
   },
   "source": [
    "After that we have to work with our dataframe to have the correct data to work with. We will need:\n",
    "* The text in the title and in the selftext of each post\n",
    "* The proportion of pronouns in each post\n",
    "\n",
    "In order to accomplish the first point, we will work with both title and selftext of each post independently and then\n",
    "with both of them merged. So we will merge them making sure that both of them are present:"
   ]
  },
  {
   "cell_type": "code",
   "execution_count": 2,
   "metadata": {
    "pycharm": {
     "name": "#%%\n"
    }
   },
   "outputs": [],
   "source": [
    "try:\n",
    "    train[\"selftext\"], train[\"title\"]\n",
    "except KeyError:\n",
    "    pass\n",
    "else:\n",
    "    train[\"title_selftext\"] = train[\"title\"] + train[\"selftext\"]"
   ]
  },
  {
   "cell_type": "code",
   "execution_count": null,
   "metadata": {
    "pycharm": {
     "is_executing": true,
     "name": "#%%\n"
    }
   },
   "outputs": [],
   "source": [
    "import mlearning_utils as mlu\n",
    "train[\"title_selftext\"].fillna(\" \")\n",
    "train[\"title_selftext\"].apply(lambda x: mlu.pre_process(x))"
   ]
  },
  {
   "cell_type": "code",
   "execution_count": null,
   "metadata": {
    "pycharm": {
     "is_executing": true,
     "name": "#%%\n"
    }
   },
   "outputs": [],
   "source": [
    "from sklearn.feature_extraction.text import CountVectorizer\n",
    "cv = CountVectorizer(ngram_range=(1,2), stop_words=\"english\", lowercase=True)\n",
    "cv.fit_transform(train[\"title_selftext\"])"
   ]
  },
  {
   "cell_type": "code",
   "execution_count": null,
   "metadata": {
    "pycharm": {
     "is_executing": true,
     "name": "#%%\n"
    }
   },
   "outputs": [],
   "source": [
    "from nltk.tokenize import word_tokenize\n",
    "# Pronouns proportion\n",
    "pronouns = mlu.get_pronoun_proportion(train[\"title_selftext\"].tolist())"
   ]
  }
 ],
 "metadata": {
  "kernelspec": {
   "display_name": "Python 3.8.1 64-bit",
   "language": "python",
   "name": "python38164bit0e230da09833446789e7a9e442994782"
  },
  "language_info": {
   "codemirror_mode": {
    "name": "ipython",
    "version": 3
   },
   "file_extension": ".py",
   "mimetype": "text/x-python",
   "name": "python",
   "nbconvert_exporter": "python",
   "pygments_lexer": "ipython3",
   "version": "3.8.1"
  }
 },
 "nbformat": 4,
 "nbformat_minor": 1
}